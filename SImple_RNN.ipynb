{
  "nbformat": 4,
  "nbformat_minor": 0,
  "metadata": {
    "colab": {
      "provenance": [],
      "authorship_tag": "ABX9TyOqCqM2SKJ1CRGqvP479uoZ"
    },
    "kernelspec": {
      "name": "python3",
      "display_name": "Python 3"
    },
    "language_info": {
      "name": "python"
    }
  },
  "cells": [
    {
      "cell_type": "code",
      "execution_count": 1,
      "metadata": {
        "colab": {
          "base_uri": "https://localhost:8080/"
        },
        "id": "lfCQx1bnG5vR",
        "outputId": "78c81a25-09fb-497d-c624-14d5804f2e41"
      },
      "outputs": [
        {
          "output_type": "stream",
          "name": "stdout",
          "text": [
            "2.15.0\n"
          ]
        }
      ],
      "source": [
        "import tensorflow as tf\n",
        "print(tf.__version__)"
      ]
    },
    {
      "cell_type": "code",
      "source": [
        "from tensorflow.keras.layers import Input, SimpleRNN, Dense, Flatten\n",
        "from tensorflow.keras.models import Model\n",
        "from tensorflow.keras.optimizers import SGD, Adam\n",
        "\n",
        "import numpy as np\n",
        "import pandas as pd\n",
        "import matplotlib.pyplot as plt"
      ],
      "metadata": {
        "id": "kQUpMimBHvVi"
      },
      "execution_count": 2,
      "outputs": []
    },
    {
      "cell_type": "code",
      "source": [
        "# N = Number of samples\n",
        "# T= Sequence length\n",
        "# D= number of input features\n",
        "# M= Number of hidden units\n",
        "# K= number of output units"
      ],
      "metadata": {
        "id": "tTSDawH2K6bZ"
      },
      "execution_count": 3,
      "outputs": []
    },
    {
      "cell_type": "code",
      "source": [
        "N=1\n",
        "T= 10\n",
        "D=3\n",
        "K=2\n",
        "X = np.random.randn(N,T,D)"
      ],
      "metadata": {
        "id": "kLjmwAJCLO8P"
      },
      "execution_count": 4,
      "outputs": []
    },
    {
      "cell_type": "code",
      "source": [
        "print(X)"
      ],
      "metadata": {
        "colab": {
          "base_uri": "https://localhost:8080/"
        },
        "id": "PW2-rlEYLne7",
        "outputId": "fd6fdf3b-69a8-403c-a8b3-0e5c33299f5a"
      },
      "execution_count": 5,
      "outputs": [
        {
          "output_type": "stream",
          "name": "stdout",
          "text": [
            "[[[ 1.28145778 -0.42848834  0.94592515]\n",
            "  [-0.03819839  0.55944254 -0.17545312]\n",
            "  [ 1.05966203 -0.59520965 -0.04251422]\n",
            "  [-1.2915637  -0.46141409  0.33353085]\n",
            "  [ 0.16187552 -0.61826175  0.10057974]\n",
            "  [ 0.1174313   0.21950943  1.54130488]\n",
            "  [-0.10380297 -1.37670052  2.1975564 ]\n",
            "  [ 1.11112099 -0.47640426 -1.71483401]\n",
            "  [ 0.28147785 -0.83301722  0.08251582]\n",
            "  [ 0.23851944  1.19388584 -1.00077457]]]\n"
          ]
        }
      ]
    },
    {
      "cell_type": "code",
      "source": [
        "X[0]"
      ],
      "metadata": {
        "colab": {
          "base_uri": "https://localhost:8080/"
        },
        "id": "qoa1I2akamrv",
        "outputId": "155cd247-7625-4024-9393-35d8cdc9a7f8"
      },
      "execution_count": 6,
      "outputs": [
        {
          "output_type": "execute_result",
          "data": {
            "text/plain": [
              "array([[ 1.28145778, -0.42848834,  0.94592515],\n",
              "       [-0.03819839,  0.55944254, -0.17545312],\n",
              "       [ 1.05966203, -0.59520965, -0.04251422],\n",
              "       [-1.2915637 , -0.46141409,  0.33353085],\n",
              "       [ 0.16187552, -0.61826175,  0.10057974],\n",
              "       [ 0.1174313 ,  0.21950943,  1.54130488],\n",
              "       [-0.10380297, -1.37670052,  2.1975564 ],\n",
              "       [ 1.11112099, -0.47640426, -1.71483401],\n",
              "       [ 0.28147785, -0.83301722,  0.08251582],\n",
              "       [ 0.23851944,  1.19388584, -1.00077457]])"
            ]
          },
          "metadata": {},
          "execution_count": 6
        }
      ]
    },
    {
      "cell_type": "code",
      "source": [
        "x = X[0]\n",
        "for t in range(T):\n",
        "  print(x[0])\n",
        "  break"
      ],
      "metadata": {
        "colab": {
          "base_uri": "https://localhost:8080/"
        },
        "id": "Kl7IZljXb38w",
        "outputId": "c59d6334-f59f-4e7b-b134-25c49b958ec7"
      },
      "execution_count": 7,
      "outputs": [
        {
          "output_type": "stream",
          "name": "stdout",
          "text": [
            "[ 1.28145778 -0.42848834  0.94592515]\n"
          ]
        }
      ]
    },
    {
      "cell_type": "code",
      "source": [
        "# Make an RNN\n",
        "\n",
        "# Number of hidden units\n",
        "M=5\n",
        "# T*D = Input matrix\n",
        "i = Input(shape= (T,D))\n",
        "x = SimpleRNN(M)(i)\n",
        "x = Dense(K)(x)\n",
        "\n",
        "# No activation for regression\n",
        "model = Model(i,x)\n"
      ],
      "metadata": {
        "id": "kEtp-WIuLo36"
      },
      "execution_count": 8,
      "outputs": []
    },
    {
      "cell_type": "code",
      "source": [
        "# Get the output\n",
        "\n",
        "Yhat = model.predict(X)\n",
        "print(Yhat)\n",
        "\n",
        "# output shape = N*K\n",
        "print(Yhat.shape)"
      ],
      "metadata": {
        "colab": {
          "base_uri": "https://localhost:8080/"
        },
        "id": "F72sr3BQMzx1",
        "outputId": "3f4df13b-cef7-4696-aa92-85f863881ee7"
      },
      "execution_count": 9,
      "outputs": [
        {
          "output_type": "stream",
          "name": "stdout",
          "text": [
            "1/1 [==============================] - 1s 861ms/step\n",
            "[[-1.3271614  -0.02186675]]\n",
            "(1, 2)\n"
          ]
        }
      ]
    },
    {
      "cell_type": "code",
      "source": [
        "model.summary\n",
        "model.summary()"
      ],
      "metadata": {
        "colab": {
          "base_uri": "https://localhost:8080/"
        },
        "id": "Xy15KJzKOy9K",
        "outputId": "ad1ccca6-9f34-474c-b46a-0f3f446a76f8"
      },
      "execution_count": 10,
      "outputs": [
        {
          "output_type": "stream",
          "name": "stdout",
          "text": [
            "Model: \"model\"\n",
            "_________________________________________________________________\n",
            " Layer (type)                Output Shape              Param #   \n",
            "=================================================================\n",
            " input_1 (InputLayer)        [(None, 10, 3)]           0         \n",
            "                                                                 \n",
            " simple_rnn (SimpleRNN)      (None, 5)                 45        \n",
            "                                                                 \n",
            " dense (Dense)               (None, 2)                 12        \n",
            "                                                                 \n",
            "=================================================================\n",
            "Total params: 57 (228.00 Byte)\n",
            "Trainable params: 57 (228.00 Byte)\n",
            "Non-trainable params: 0 (0.00 Byte)\n",
            "_________________________________________________________________\n"
          ]
        }
      ]
    },
    {
      "cell_type": "code",
      "source": [
        "model.layers[0]"
      ],
      "metadata": {
        "colab": {
          "base_uri": "https://localhost:8080/"
        },
        "id": "ZItMtBNjPcNX",
        "outputId": "0d88e8be-b5b1-48f9-e12d-bcf0bd1e07a7"
      },
      "execution_count": 11,
      "outputs": [
        {
          "output_type": "execute_result",
          "data": {
            "text/plain": [
              "<keras.src.engine.input_layer.InputLayer at 0x7a579843be80>"
            ]
          },
          "metadata": {},
          "execution_count": 11
        }
      ]
    },
    {
      "cell_type": "code",
      "source": [
        "model.layers[1]"
      ],
      "metadata": {
        "colab": {
          "base_uri": "https://localhost:8080/"
        },
        "id": "Yuj-Oj90P4BG",
        "outputId": "454226aa-9993-4624-fa7b-8fff2de6adc3"
      },
      "execution_count": 12,
      "outputs": [
        {
          "output_type": "execute_result",
          "data": {
            "text/plain": [
              "<keras.src.layers.rnn.simple_rnn.SimpleRNN at 0x7a579843b3a0>"
            ]
          },
          "metadata": {},
          "execution_count": 12
        }
      ]
    },
    {
      "cell_type": "code",
      "source": [
        "# See what parameters are stored in RNN layer\n",
        "model.layers[1].get_weights()"
      ],
      "metadata": {
        "colab": {
          "base_uri": "https://localhost:8080/"
        },
        "id": "3MY-gN5mQAe7",
        "outputId": "a8a2fe68-cf38-43c6-b452-ce83701c8245"
      },
      "execution_count": 13,
      "outputs": [
        {
          "output_type": "execute_result",
          "data": {
            "text/plain": [
              "[array([[ 0.82798105, -0.6833321 , -0.58263385, -0.50161743,  0.67022866],\n",
              "        [ 0.70966417,  0.4056291 , -0.49929702,  0.55681103,  0.6079722 ],\n",
              "        [-0.62610316, -0.864318  ,  0.5499117 ,  0.8521423 , -0.36800995]],\n",
              "       dtype=float32),\n",
              " array([[-0.17656827, -0.49153155,  0.42900467, -0.02383973,  0.73661846],\n",
              "        [ 0.02861009,  0.20022757, -0.1290009 , -0.9530562 ,  0.18475132],\n",
              "        [-0.3205456 , -0.665553  , -0.65243495, -0.0890239 , -0.1438507 ],\n",
              "        [-0.93006724,  0.33544177,  0.12969738,  0.01059524, -0.07429689],\n",
              "        [ 0.01518133,  0.4035141 , -0.5973448 ,  0.28823265,  0.63011664]],\n",
              "       dtype=float32),\n",
              " array([0., 0., 0., 0., 0.], dtype=float32)]"
            ]
          },
          "metadata": {},
          "execution_count": 13
        }
      ]
    },
    {
      "cell_type": "code",
      "source": [
        "# Check shapes\n",
        "# First output: Input>Hidden : D*M\n",
        "# Second output: Hidden > Hidden : M*M\n",
        "# Third output: Bias Term (vector of length M)\n",
        "\n",
        "a,b,c = model.layers[1].get_weights()\n",
        "print(a.shape, b.shape, c.shape)"
      ],
      "metadata": {
        "colab": {
          "base_uri": "https://localhost:8080/"
        },
        "id": "RecnaQbNQKsR",
        "outputId": "9d02aeb9-8780-4956-d7e0-27bf56b688cd"
      },
      "execution_count": 14,
      "outputs": [
        {
          "output_type": "stream",
          "name": "stdout",
          "text": [
            "(3, 5) (5, 5) (5,)\n"
          ]
        }
      ]
    },
    {
      "cell_type": "code",
      "source": [
        "# Output layer weights and bias\n",
        "\n",
        "model.layers[2].get_weights()"
      ],
      "metadata": {
        "colab": {
          "base_uri": "https://localhost:8080/"
        },
        "id": "pS44kaBgRibe",
        "outputId": "e1b83550-6581-45c4-d72a-90795bf5e53f"
      },
      "execution_count": 15,
      "outputs": [
        {
          "output_type": "execute_result",
          "data": {
            "text/plain": [
              "[array([[ 0.2474122 ,  0.18046331],\n",
              "        [ 0.53704405,  0.07881129],\n",
              "        [ 0.7603425 , -0.09752744],\n",
              "        [-0.19696248, -0.41251874],\n",
              "        [-0.9034281 , -0.22642213]], dtype=float32),\n",
              " array([0., 0.], dtype=float32)]"
            ]
          },
          "metadata": {},
          "execution_count": 15
        }
      ]
    },
    {
      "cell_type": "code",
      "source": [
        "# Wx input to hidden weight\n",
        "# Wh hidden to hidden weight\n",
        "# bh hidden bias\n",
        "# Wo Hidden to output weight\n",
        "# bo output bias\n",
        "\n",
        "Wx, Wh, bh = model.layers[1].get_weights()\n",
        "Wo, bo = model.layers[2].get_weights()"
      ],
      "metadata": {
        "id": "h7e5hVC9TPCG"
      },
      "execution_count": 16,
      "outputs": []
    },
    {
      "cell_type": "code",
      "source": [
        "h_last = np.zeros(M)\n",
        "x = X[0]\n",
        "Yhats = []\n",
        "\n",
        "for t in range(T):\n",
        "  h = np.tanh(x[t].dot(Wx) + h_last.dot(Wh) + bh)\n",
        "  y = h.dot(Wo) +bo\n",
        "  Yhats.append(y)\n",
        "\n",
        "  h_last = h\n",
        "\n",
        "print(Yhats[-1])"
      ],
      "metadata": {
        "id": "lc_0ojcHTga3",
        "colab": {
          "base_uri": "https://localhost:8080/"
        },
        "outputId": "51965ab8-b384-486d-a44d-2a08c17f6d13"
      },
      "execution_count": 17,
      "outputs": [
        {
          "output_type": "stream",
          "name": "stdout",
          "text": [
            "[-1.32716133 -0.02186675]\n"
          ]
        }
      ]
    }
  ]
}